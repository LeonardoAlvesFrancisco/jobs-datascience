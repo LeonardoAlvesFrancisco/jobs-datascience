{
 "cells": [
  {
   "cell_type": "code",
   "execution_count": null,
   "metadata": {},
   "outputs": [],
   "source": [
    "# Importando os pacotes \n",
    "import numpy as np\n",
    "import matplotlib.pyplot as plt\n",
    "import pandas as pd\n",
    "import colorsys\n",
    "import sklearn\n",
    "plt.style.use('seaborn-talk')\n",
    "import warnings\n",
    "warnings.filterwarnings(\"ignore\")\n",
    "%matplotlib inline"
   ]
  },
  {
   "cell_type": "code",
   "execution_count": null,
   "metadata": {},
   "outputs": [],
   "source": [
    "#Carregando o dataset\n",
    "df = pd.read_csv('Safra_2018-2019.csv')  "
   ]
  },
  {
   "cell_type": "code",
   "execution_count": null,
   "metadata": {},
   "outputs": [],
   "source": [
    "# Qual é a distribuição de dano na plantação por semana utilizando agrotóxicos \n",
    "# A grande maioria da plantação não apresenta danos\n",
    "\n",
    "# Definindo a quantidade\n",
    "labels = df.dano_na_plantacao.value_counts().index\n",
    "num = len(df.Semanas_Utilizando.value_counts().index)\n",
    "\n",
    "# Criando a lista de cores\n",
    "colors = ['OliveDrab', 'Orange', 'OrangeRed', 'DarkCyan', 'Salmon', 'Sienna', 'Maroon', 'LightSlateGrey', 'DimGray']\n",
    "\n",
    "# Gráfico de Pizza\n",
    "fatias, texto = plt.pie(df.dano_na_plantacao.value_counts(), colors = colors, startangle = 90)\n",
    "plt.axes().set_aspect('equal', 'datalim')\n",
    "plt.legend(fatias, labels, bbox_to_anchor = (1.05,1))\n",
    "plt.title(\"Dano na plantação por utilização de agrotóxico\")\n",
    "plt.show()\n",
    "print(\"\")\n",
    "\n",
    "#Separação de dano nas plantações\n",
    "#Verificando como os dados estão distribuidos\n",
    "\n",
    "print(\"Sem danos: {0} ({1:0.2f}%)\".format(len(df.loc[df['dano_na_plantacao'] == 0]), \n",
    "                                               (len(df.loc[df['dano_na_plantacao'] ==0])/len(df.index) * 100)))\n",
    "\n",
    "print(\"Danos causados por outros motivos : {0} ({1:0.2f}%)\".format(len(df.loc[df['dano_na_plantacao'] == 1]), \n",
    "                                               (len(df.loc[df['dano_na_plantacao'] == 1])/len(df.index) * 100)))\n",
    "\n",
    "print(\"Danos gerados pelos pesticidas : {0} ({1:0.2f}%)\".format(len(df.loc[df['dano_na_plantacao'] == 2]), \n",
    "                                               (len(df.loc[df['dano_na_plantacao'] == 2])/len(df.index) * 100)))"
   ]
  },
  {
   "cell_type": "markdown",
   "metadata": {},
   "source": [
    "# Identificando a relação entre váriaveis atráves de gráfico:"
   ]
  },
  {
   "cell_type": "code",
   "execution_count": null,
   "metadata": {},
   "outputs": [],
   "source": [
    "def plot_corr(df, size = 10):\n",
    "    corr = df.corr()\n",
    "    fig, ax = plt.subplots(figsize = (size, size))\n",
    "    ax.matshow(corr)\n",
    "    plt.xticks(range(len(corr.columns)),corr.columns)\n",
    "    plt.yticks(range(len(corr.columns)),corr.columns)\n",
    "    "
   ]
  },
  {
   "cell_type": "code",
   "execution_count": null,
   "metadata": {},
   "outputs": [],
   "source": [
    "plot_corr(df)"
   ]
  },
  {
   "cell_type": "code",
   "execution_count": null,
   "metadata": {},
   "outputs": [],
   "source": [
    "df.corr()"
   ]
  },
  {
   "cell_type": "markdown",
   "metadata": {},
   "source": [
    "# Iniciando o split"
   ]
  },
  {
   "cell_type": "code",
   "execution_count": null,
   "metadata": {},
   "outputs": [],
   "source": [
    "#Importando pacote de split\n",
    "from sklearn.model_selection import train_test_split"
   ]
  },
  {
   "cell_type": "code",
   "execution_count": null,
   "metadata": {},
   "outputs": [],
   "source": [
    "#Seleção de váriaveis preditoras [Feature Selection]\n",
    "atributos = ['Estimativa_de_Insetos','Tipo_de_Cultivo','Tipo_de_Solo','Categoria_Pesticida', 'Doses_Semana', 'Semanas_Utilizando', 'Semanas_Sem_Uso', 'Temporada']"
   ]
  },
  {
   "cell_type": "code",
   "execution_count": null,
   "metadata": {},
   "outputs": [],
   "source": [
    "#A váriavel a ser prevista\n",
    "atributos_prev = ['dano_na_plantacao']"
   ]
  },
  {
   "cell_type": "code",
   "execution_count": null,
   "metadata": {},
   "outputs": [],
   "source": [
    "#Criando objetos\n",
    "x = df[atributos].values\n",
    "y = df[atributos_prev].values"
   ]
  },
  {
   "cell_type": "code",
   "execution_count": null,
   "metadata": {},
   "outputs": [],
   "source": [
    "split_teste_size = 0.30"
   ]
  },
  {
   "cell_type": "code",
   "execution_count": null,
   "metadata": {},
   "outputs": [],
   "source": [
    "x_treino, x_teste, y_treino, y_teste = train_test_split(x, y, test_size = split_teste_size, random_state = 42)"
   ]
  },
  {
   "cell_type": "code",
   "execution_count": null,
   "metadata": {},
   "outputs": [],
   "source": [
    "#Tratamento de dados missing\n",
    "from sklearn.preprocessing import Imputer"
   ]
  },
  {
   "cell_type": "code",
   "execution_count": null,
   "metadata": {},
   "outputs": [],
   "source": [
    "preenche_0 = Imputer(missing_values=0, strategy= \"mean\", axis= 0)\n",
    "#Substituir os valores de treino e teste\n",
    "X_treino =  preenche_0.fit_transform(x_treino)\n",
    "X_teste =  preenche_0.fit_transform(x_teste)"
   ]
  },
  {
   "cell_type": "code",
   "execution_count": null,
   "metadata": {},
   "outputs": [],
   "source": [
    "#Importando métricas de exatidão dos modelos\n",
    "from sklearn import metrics\n",
    "#Importando pacote de modelo preditivo\n",
    "from sklearn.linear_model import LogisticRegression"
   ]
  },
  {
   "cell_type": "code",
   "execution_count": null,
   "metadata": {},
   "outputs": [],
   "source": [
    "modelo_v1 = LogisticRegression(C = 0.7, random_state=42)\n",
    "modelo_v1.fit(X_treino, y_treino.ravel())"
   ]
  },
  {
   "cell_type": "markdown",
   "metadata": {},
   "source": [
    "# Acuracia de teste"
   ]
  },
  {
   "cell_type": "code",
   "execution_count": null,
   "metadata": {},
   "outputs": [],
   "source": [
    "nb_predict_test = modelo_v1.predict(X_teste)\n",
    "print(\"Exatidão (Accuracy): {0:.4f}\".format(metrics.accuracy_score(y_teste, nb_predict_test)))\n",
    "print()"
   ]
  },
  {
   "cell_type": "markdown",
   "metadata": {},
   "source": [
    "Salvando modelo para utilizar"
   ]
  },
  {
   "cell_type": "code",
   "execution_count": null,
   "metadata": {},
   "outputs": [],
   "source": [
    "import pickle\n",
    "filename = 'modelo_treinado_Scicrop.sav'\n",
    "pickle.dump(modelo_v1, open(filename,'wb'))"
   ]
  },
  {
   "cell_type": "markdown",
   "metadata": {},
   "source": [
    "Carregando modelo para utilizar com o conjunto de dados de 2020"
   ]
  },
  {
   "cell_type": "code",
   "execution_count": null,
   "metadata": {},
   "outputs": [],
   "source": [
    "loaded_model = pickle.load(open(filename, 'rb'))"
   ]
  },
  {
   "cell_type": "markdown",
   "metadata": {},
   "source": [
    "# Carregando conjunto de dados de 2020"
   ]
  },
  {
   "cell_type": "code",
   "execution_count": null,
   "metadata": {},
   "outputs": [],
   "source": [
    "df_2020 = pd.read_csv('Safra_2020.csv')\n",
    "dano_na_plantacao = []\n",
    "for line in df_2020.Temporada:\n",
    "    dano_na_plantacao = 0\n",
    "df_2020['dano_na_plantacao'] = dano_na_plantacao"
   ]
  },
  {
   "cell_type": "code",
   "execution_count": null,
   "metadata": {},
   "outputs": [],
   "source": [
    "x_2020 = df_2020[atributos].values\n",
    "y_2020 = df_2020[atributos_prev].values\n",
    "#Retirando valores missing\n",
    "preenche_0 = Imputer(missing_values=0, strategy= \"mean\", axis= 0)\n",
    "x_2020 =  preenche_0.fit_transform(x_2020)\n",
    "nb_predict_2020 = loaded_model.predict(x_2020)\n",
    "y_2020 = nb_predict_2020\n",
    "df_2020.drop(['dano_na_plantacao'],axis=1)\n",
    "#Adicionando coluna preditiva\n",
    "dano_na_plantacao = []\n",
    "for line in df_2020.Temporada:\n",
    "    dano_na_plantacao = nb_predict_2020\n",
    "df_2020['dano_na_plantacao'] = dano_na_plantacao"
   ]
  },
  {
   "cell_type": "markdown",
   "metadata": {},
   "source": [
    "# Separando dano nas plantações"
   ]
  },
  {
   "cell_type": "code",
   "execution_count": null,
   "metadata": {},
   "outputs": [],
   "source": [
    "# Definindo a quantidade\n",
    "labels = df_2020.dano_na_plantacao.value_counts().index\n",
    "num = len(df_2020.Semanas_Utilizando.value_counts().index)\n",
    "\n",
    "# Criando a lista de cores\n",
    "colors = ['OliveDrab', 'Orange', 'OrangeRed', 'DarkCyan', 'Salmon', 'Sienna', 'Maroon', 'LightSlateGrey', 'DimGray']\n",
    "\n",
    "# Gráfico de Pizza\n",
    "fatias, texto = plt.pie(df_2020.dano_na_plantacao.value_counts(), colors = colors, startangle = 90)\n",
    "plt.axes().set_aspect('equal', 'datalim')\n",
    "plt.legend(fatias, labels, bbox_to_anchor = (1.05,1))\n",
    "plt.title(\"Dano na plantação por utilização de agrotóxico\")\n",
    "plt.show()\n",
    "print(\"\")\n",
    "\n",
    "#Separação de dano nas plantações\n",
    "#Verificando como os dados ficaram distribuidos\n",
    "\n",
    "print(\"Sem danos: {0} ({1:0.2f}%)\".format(len(df_2020.loc[df_2020['dano_na_plantacao'] == 0]), \n",
    "                                               (len(df_2020.loc[df_2020['dano_na_plantacao'] ==0])/len(df.index) * 100)))\n",
    "\n",
    "print(\"Danos causados por outros motivos : {0} ({1:0.2f}%)\".format(len(df_2020.loc[df_2020['dano_na_plantacao'] == 1]), \n",
    "                                               (len(df_2020.loc[df_2020['dano_na_plantacao'] == 1])/len(df.index) * 100)))\n",
    "\n",
    "print(\"Danos gerados pelos pesticidas : {0} ({1:0.2f}%)\".format(len(df_2020.loc[df_2020['dano_na_plantacao'] == 2]), \n",
    "                                               (len(df_2020.loc[df_2020['dano_na_plantacao'] == 2])/len(df.index) * 100)))"
   ]
  },
  {
   "cell_type": "code",
   "execution_count": null,
   "metadata": {},
   "outputs": [],
   "source": [
    "#salvando o modelo atualizado\n",
    "df_2020.to_csv('Safra_2020-atualizada.csv')"
   ]
  },
  {
   "cell_type": "markdown",
   "metadata": {},
   "source": [
    "# FIM !"
   ]
  }
 ],
 "metadata": {
  "kernelspec": {
   "display_name": "Python 3",
   "language": "python",
   "name": "python3"
  },
  "language_info": {
   "codemirror_mode": {
    "name": "ipython",
    "version": 3
   },
   "file_extension": ".py",
   "mimetype": "text/x-python",
   "name": "python",
   "nbconvert_exporter": "python",
   "pygments_lexer": "ipython3",
   "version": "3.6.5"
  }
 },
 "nbformat": 4,
 "nbformat_minor": 4
}
